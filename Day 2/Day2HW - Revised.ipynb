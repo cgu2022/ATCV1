{
 "nbformat": 4,
 "nbformat_minor": 2,
 "metadata": {
  "language_info": {
   "name": "python",
   "codemirror_mode": {
    "name": "ipython",
    "version": 3
   },
   "version": "3.7.4-final"
  },
  "orig_nbformat": 2,
  "file_extension": ".py",
  "mimetype": "text/x-python",
  "name": "python",
  "npconvert_exporter": "python",
  "pygments_lexer": "ipython3",
  "version": 3,
  "kernelspec": {
   "name": "python37464bit9894a73498e440659139003b7d36b567",
   "display_name": "Python 3.7.4 64-bit"
  }
 },
 "cells": [
  {
   "source": [
    "import cv2\n",
    "import numpy as np\n",
    "import math\n",
    "from scipy.integrate import simps"
   ],
   "cell_type": "code",
   "outputs": [],
   "metadata": {},
   "execution_count": 28
  },
  {
   "source": [
    "def gaussFunction(x, sigma):\n",
    "    return (1/(sigma*math.sqrt(2*math.pi))) * math.exp((-0.5)*(x**2/sigma**2))\n",
    "\n",
    "def calculateGaussIntegral(lower_bound, upper_bound, sigma):\n",
    "    integrateArray = np.linspace(lower_bound, upper_bound, num=1000)\n",
    "    vGaussFunction = np.vectorize(gaussFunction) # Vectorized Gaussian Function\n",
    "    y = vGaussFunction(integrateArray, sigma) # Y-values of gauss function for each interval\n",
    "    integral = simps(y,integrateArray) # Integrating\n",
    "    return integral\n",
    "\n",
    "# Parameter: sigma (default 1)\n",
    "# Return: 3x3 Gauss Kernal with given sigma value\n",
    "def generateGaussKernal(sigma=1):\n",
    "    kernel = np.ones((3,3))\n",
    "    integrals = [calculateGaussIntegral(-1.5, -0.5, sigma), calculateGaussIntegral(-0.5, 0.5, sigma), calculateGaussIntegral(0.5, 1.5, sigma)] # Integral Values\n",
    "    for i in range(0,3):\n",
    "        for j in range(0,3):\n",
    "            kernel[i][j]*=integrals[i]*integrals[j]\n",
    "    normalizer = np.sum(kernel) # The Normalization Factor\n",
    "    normalizedKernel = kernel/normalizer # Normalizing\n",
    "    return normalizedKernel"
   ],
   "cell_type": "code",
   "outputs": [],
   "metadata": {},
   "execution_count": 29
  },
  {
   "source": [
    "kernel = generateGaussKernal(sigma=1)"
   ],
   "cell_type": "code",
   "outputs": [],
   "metadata": {},
   "execution_count": 30
  },
  {
   "source": [
    "kernel = generateGaussKernal(sigma=2)\n"
   ],
   "cell_type": "code",
   "outputs": [],
   "metadata": {},
   "execution_count": 31
  },
  {
   "source": [
    "# Should take 10 seconds - 1 minute to run\n",
    "img = cv2.imread(\"Lena.png\")\n",
    "img_gray = cv2.cvtColor(img,cv2.COLOR_BGR2GRAY)\n",
    "cv2.imwrite(\"Reference.png\", img_gray)\n",
    "(height, width) = img_gray.shape\n",
    "kdim = kernel.shape[0]\n",
    "for i in range(height-kdim):\n",
    "    for j in range(width-kdim):\n",
    "        ROI = img_gray[i:i+kdim, j:j+kdim] # img region to apply current convolution\n",
    "        outputKernel = ROI * kernel\n",
    "        img_gray[i+kdim//2, j+kdim//2] = np.sum(outputKernel)"
   ],
   "cell_type": "code",
   "outputs": [],
   "metadata": {},
   "execution_count": 35
  },
  {
   "source": [
    "cv2.imwrite(\"Output.png\", img_gray)"
   ],
   "cell_type": "code",
   "outputs": [
    {
     "output_type": "execute_result",
     "data": {
      "text/plain": "True"
     },
     "metadata": {},
     "execution_count": 36
    }
   ],
   "metadata": {},
   "execution_count": 36
  },
  {
   "source": [
    "3//2"
   ],
   "cell_type": "code",
   "outputs": [
    {
     "output_type": "execute_result",
     "data": {
      "text/plain": "1"
     },
     "metadata": {},
     "execution_count": 37
    }
   ],
   "metadata": {},
   "execution_count": 37
  },
  {
   "cell_type": "code",
   "execution_count": null,
   "metadata": {},
   "outputs": [],
   "source": []
  }
 ]
}